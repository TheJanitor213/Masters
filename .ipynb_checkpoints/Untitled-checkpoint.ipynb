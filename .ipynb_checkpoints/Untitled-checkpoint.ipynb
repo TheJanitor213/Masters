{
 "cells": [
  {
   "cell_type": "code",
   "execution_count": 193,
   "id": "125254cf",
   "metadata": {},
   "outputs": [],
   "source": [
    "import os\n",
    "import numpy as np\n",
    "import scipy\n",
    "import librosa\n",
    "from scipy.io import wavfile\n",
    "import scipy.fftpack as fft\n",
    "from scipy.signal import get_window\n",
    "import IPython.display as ipd\n",
    "import matplotlib.pyplot as plt\n",
    "from tqdm import tqdm\n",
    "from python_speech_features import mfcc\n",
    "%matplotlib inline"
   ]
  },
  {
   "cell_type": "code",
   "execution_count": null,
   "id": "052d89b4",
   "metadata": {},
   "outputs": [],
   "source": []
  },
  {
   "cell_type": "code",
   "execution_count": 194,
   "id": "ed09feb8",
   "metadata": {},
   "outputs": [],
   "source": [
    "\n",
    "#ipd.Audio(TRAIN_PATH + \"chunk_0.wav\")"
   ]
  },
  {
   "cell_type": "code",
   "execution_count": null,
   "id": "62c7ee72",
   "metadata": {},
   "outputs": [],
   "source": []
  },
  {
   "cell_type": "code",
   "execution_count": 195,
   "id": "502d8409",
   "metadata": {},
   "outputs": [],
   "source": [
    "def normalize_audio(audio):\n",
    "    audio = audio / np.max(np.abs(audio))\n",
    "    return audio"
   ]
  },
  {
   "cell_type": "code",
   "execution_count": null,
   "id": "6325e644",
   "metadata": {},
   "outputs": [],
   "source": []
  },
  {
   "cell_type": "code",
   "execution_count": 196,
   "id": "b529f3fa",
   "metadata": {},
   "outputs": [],
   "source": [
    "def frame_audio(audio, FFT_size=2048, hop_size=10, sample_rate=44100):\n",
    "    # hop_size in ms\n",
    "    \n",
    "    audio = np.pad(audio, int(FFT_size / 2), mode='reflect')\n",
    "    frame_len = np.round(sample_rate * hop_size / 1000).astype(int)\n",
    "    frame_num = int((len(audio) - FFT_size) / frame_len) + 1\n",
    "    frames = np.zeros((frame_num,FFT_size))\n",
    "    \n",
    "    for n in range(frame_num):\n",
    "        frames[n] = audio[n*frame_len:n*frame_len+FFT_size]\n",
    "    \n",
    "    return frames"
   ]
  },
  {
   "cell_type": "code",
   "execution_count": null,
   "id": "b34bbd36",
   "metadata": {},
   "outputs": [],
   "source": []
  },
  {
   "cell_type": "code",
   "execution_count": null,
   "id": "d5f4c98e",
   "metadata": {},
   "outputs": [],
   "source": []
  },
  {
   "cell_type": "code",
   "execution_count": null,
   "id": "ddc68f54",
   "metadata": {},
   "outputs": [],
   "source": []
  },
  {
   "cell_type": "code",
   "execution_count": null,
   "id": "713434b7",
   "metadata": {},
   "outputs": [],
   "source": []
  },
  {
   "cell_type": "code",
   "execution_count": null,
   "id": "a6ce42a6",
   "metadata": {},
   "outputs": [],
   "source": []
  },
  {
   "cell_type": "code",
   "execution_count": null,
   "id": "2cbcb09b",
   "metadata": {},
   "outputs": [],
   "source": []
  },
  {
   "cell_type": "code",
   "execution_count": null,
   "id": "2f2ef4cb",
   "metadata": {},
   "outputs": [],
   "source": []
  },
  {
   "cell_type": "code",
   "execution_count": null,
   "id": "c1a0be38",
   "metadata": {},
   "outputs": [],
   "source": []
  },
  {
   "cell_type": "code",
   "execution_count": 197,
   "id": "964baab6",
   "metadata": {},
   "outputs": [],
   "source": [
    "def freq_to_mel(freq):\n",
    "    return 2595.0 * np.log10(1.0 + freq / 700.0)\n",
    "\n",
    "def met_to_freq(mels):\n",
    "    return 700.0 * (10.0**(mels / 2595.0) - 1.0)"
   ]
  },
  {
   "cell_type": "code",
   "execution_count": 198,
   "id": "e068b8cb",
   "metadata": {},
   "outputs": [],
   "source": [
    "def get_filter_points(fmin, fmax, mel_filter_num, FFT_size, sample_rate=44100):\n",
    "    fmin_mel = freq_to_mel(fmin)\n",
    "    fmax_mel = freq_to_mel(fmax)\n",
    "    \n",
    "\n",
    "    mels = np.linspace(fmin_mel, fmax_mel, num=mel_filter_num+2)\n",
    "    freqs = met_to_freq(mels)\n",
    "    \n",
    "    return np.floor((FFT_size + 1) / sample_rate * freqs).astype(int), freqs\n"
   ]
  },
  {
   "cell_type": "code",
   "execution_count": null,
   "id": "d636595d",
   "metadata": {},
   "outputs": [],
   "source": []
  },
  {
   "cell_type": "code",
   "execution_count": 199,
   "id": "4cca1efc",
   "metadata": {},
   "outputs": [],
   "source": [
    "def get_filters(filter_points, FFT_size):\n",
    "    filters = np.zeros((len(filter_points)-2,int(FFT_size/2+1)))\n",
    "    \n",
    "    for n in range(len(filter_points)-2):\n",
    "        filters[n, filter_points[n] : filter_points[n + 1]] = np.linspace(0, 1, filter_points[n + 1] - filter_points[n])\n",
    "        filters[n, filter_points[n + 1] : filter_points[n + 2]] = np.linspace(1, 0, filter_points[n + 2] - filter_points[n + 1])\n",
    "    \n",
    "    return filters"
   ]
  },
  {
   "cell_type": "code",
   "execution_count": null,
   "id": "9140726e",
   "metadata": {},
   "outputs": [],
   "source": []
  },
  {
   "cell_type": "code",
   "execution_count": null,
   "id": "7c14e298",
   "metadata": {},
   "outputs": [],
   "source": []
  },
  {
   "cell_type": "code",
   "execution_count": null,
   "id": "f3bbc23f",
   "metadata": {},
   "outputs": [],
   "source": []
  },
  {
   "cell_type": "code",
   "execution_count": 200,
   "id": "095d1772",
   "metadata": {},
   "outputs": [],
   "source": [
    "def pad_audio(data, fs, T=4):\n",
    "    # Calculate target number of samples\n",
    "    N_tar = int(fs * T)\n",
    "    # Calculate number of zero samples to append\n",
    "    shape = data.shape\n",
    "    # Create the target shape    \n",
    "    N_pad = N_tar - shape[0]\n",
    "    print(\"Padding with %s seconds of silence\" % str(N_pad/fs) )\n",
    "    shape = (N_pad,) + shape[1:]\n",
    "    # Stack only if there is something to append    \n",
    "    if shape[0] > 0:                \n",
    "        if len(shape) > 1:\n",
    "            return np.vstack((np.zeros(shape),\n",
    "                              data))\n",
    "        else:\n",
    "            return np.hstack((np.zeros(shape),\n",
    "                              data))\n",
    "    else:\n",
    "        return data"
   ]
  },
  {
   "cell_type": "code",
   "execution_count": 201,
   "id": "94cb463d",
   "metadata": {},
   "outputs": [],
   "source": [
    "def dct(dct_filter_num, filter_len):\n",
    "    basis = np.empty((dct_filter_num,filter_len))\n",
    "    basis[0, :] = 1.0 / np.sqrt(filter_len)\n",
    "    \n",
    "    samples = np.arange(1, 2 * filter_len, 2) * np.pi / (2.0 * filter_len)\n",
    "\n",
    "    for i in range(1, dct_filter_num):\n",
    "        basis[i, :] = np.cos(i * samples) * np.sqrt(2.0 / filter_len)\n",
    "        \n",
    "    return basis"
   ]
  },
  {
   "cell_type": "code",
   "execution_count": 202,
   "id": "6edb10bc",
   "metadata": {},
   "outputs": [],
   "source": [
    "def create_cepstral_coefficients(file):\n",
    "    sample_rate, audio = wavfile.read(file)\n",
    "    audio = pad_audio(audio, sample_rate)\n",
    "    \n",
    "    hop_size = 10#ms\n",
    "    FFT_size = 1024\n",
    "\n",
    "    audio_framed = frame_audio(audio, FFT_size=FFT_size, hop_size=hop_size, sample_rate=sample_rate)\n",
    "\n",
    "    window = get_window(\"hann\", FFT_size, fftbins=True)\n",
    "\n",
    "    audio_win = audio_framed * window\n",
    "\n",
    "    ind = 6\n",
    "\n",
    "    audio_winT = np.transpose(audio_win)\n",
    "\n",
    "    audio_fft = np.empty((int(1 + FFT_size // 2), audio_winT.shape[1]), dtype=np.complex64, order='F')\n",
    "\n",
    "    for n in range(audio_fft.shape[1]):\n",
    "        audio_fft[:, n] = fft.fft(audio_winT[:, n], axis=0)[:audio_fft.shape[0]]\n",
    "\n",
    "    audio_fft = np.transpose(audio_fft)\n",
    "\n",
    "    audio_power = np.square(np.abs(audio_fft))\n",
    "\n",
    "    freq_min = 0\n",
    "    freq_high = sample_rate / 2\n",
    "    mel_filter_num = 10\n",
    "    \n",
    "    filter_points, mel_freqs = get_filter_points(freq_min, freq_high, mel_filter_num, FFT_size, sample_rate=44100)\n",
    "\n",
    "    \n",
    "    filters = get_filters(filter_points, FFT_size)\n",
    "\n",
    "    # taken from the librosa library\n",
    "    enorm = 2.0 / (mel_freqs[2:mel_filter_num+2] - mel_freqs[:mel_filter_num])\n",
    "    filters *= enorm[:, np.newaxis]\n",
    "\n",
    "    audio_filtered = np.dot(filters, np.transpose(audio_power))\n",
    "    audio_log = 10.0 * np.log10(audio_filtered)\n",
    "    audio_log.shape\n",
    "\n",
    "    dct_filter_num = 40\n",
    "\n",
    "    dct_filters = dct(dct_filter_num, mel_filter_num)\n",
    "\n",
    "    cepstral_coefficents = np.dot(dct_filters, audio_log)\n",
    "    print(cepstral_coefficents.shape)\n",
    "    \n",
    "    return cepstral_coefficents\n",
    "\n"
   ]
  },
  {
   "cell_type": "code",
   "execution_count": 203,
   "id": "e2873cac",
   "metadata": {},
   "outputs": [],
   "source": [
    "import boto3"
   ]
  },
  {
   "cell_type": "code",
   "execution_count": 204,
   "id": "2b343c0b",
   "metadata": {},
   "outputs": [
    {
     "name": "stdout",
     "output_type": "stream",
     "text": [
      "2021-11-08-J-Jo.wav\n",
      "2021-11-10-G-James.wav\n",
      "2021-11-15-D-Michael.wav\n",
      "2021-11-24-A-Seattle.wav\n",
      "2021-12-19-A-Bruce-fixed.wav\n",
      "2021-12-19-A-Bruce-free.wav\n",
      "2021-12-19-B-Bruce-fixed.wav\n",
      "2021-12-19-C-Bruce-fixed.wav\n",
      "2021-12-19-D-Bruce-fixed.wav\n",
      "2021-12-19-E-Bruce-fixed.wav\n",
      "2021-12-19-F-Bruce-fixed.wav\n",
      "2021-12-19-G-Bruce-fixed.wav\n",
      "2021-12-19-H-Bruce-fixed.wav\n",
      "2021-12-19-I-Bruce-fixed.wav\n",
      "python.zip\n",
      "chunk_0.wav\n",
      "Padding with 1.4411818181818181 seconds of silence\n",
      "(40, 401)\n",
      "chunk_1.wav\n",
      "Padding with 1.9061818181818182 seconds of silence\n",
      "(40, 401)\n",
      "chunk_2.wav\n",
      "Padding with 1.6871818181818181 seconds of silence\n",
      "(40, 401)\n",
      "chunk_3.wav\n",
      "Padding with 1.786181818181818 seconds of silence\n",
      "(40, 401)\n",
      "chunk_4.wav\n",
      "Padding with 1.7331818181818182 seconds of silence\n",
      "(40, 401)\n",
      "chunk_5.wav\n",
      "Padding with 1.7691818181818182 seconds of silence\n",
      "(40, 401)\n",
      "chunk_6.wav\n",
      "Padding with 1.7351818181818182 seconds of silence\n"
     ]
    },
    {
     "name": "stderr",
     "output_type": "stream",
     "text": [
      "/home/bruce/.local/share/virtualenvs/Masters-SJejm8F2/lib/python3.6/site-packages/ipykernel_launcher.py:41: RuntimeWarning: divide by zero encountered in log10\n"
     ]
    },
    {
     "name": "stdout",
     "output_type": "stream",
     "text": [
      "(40, 401)\n",
      "chunk_7.wav\n",
      "Padding with 1.9771818181818182 seconds of silence\n",
      "(40, 401)\n",
      "chunk_8.wav\n",
      "Padding with 2.0121818181818183 seconds of silence\n",
      "(40, 401)\n",
      "chunk_9.wav\n",
      "Padding with 2.010181818181818 seconds of silence\n",
      "(40, 401)\n",
      "chunk_0.wav\n",
      "Padding with 2.8381818181818184 seconds of silence\n",
      "(40, 401)\n",
      "chunk_1.wav\n",
      "Padding with 2.482181818181818 seconds of silence\n",
      "(40, 401)\n",
      "chunk_2.wav\n",
      "Padding with 2.559181818181818 seconds of silence\n",
      "(40, 401)\n",
      "chunk_3.wav\n",
      "Padding with 2.5361818181818183 seconds of silence\n",
      "(40, 401)\n",
      "chunk_4.wav\n",
      "Padding with 2.8821818181818184 seconds of silence\n",
      "(40, 401)\n",
      "chunk_5.wav\n",
      "Padding with 2.926181818181818 seconds of silence\n",
      "(40, 401)\n",
      "chunk_6.wav\n",
      "Padding with 2.873181818181818 seconds of silence\n",
      "(40, 401)\n",
      "chunk_7.wav\n",
      "Padding with 2.8431818181818183 seconds of silence\n",
      "(40, 401)\n",
      "chunk_8.wav\n",
      "Padding with 2.8511818181818183 seconds of silence\n",
      "(40, 401)\n",
      "chunk_9.wav\n",
      "Padding with 2.934181818181818 seconds of silence\n",
      "(40, 401)\n",
      "chunk_0.wav\n",
      "Padding with 1.6921818181818182 seconds of silence\n",
      "(40, 401)\n",
      "chunk_1.wav\n",
      "Padding with 2.3621818181818184 seconds of silence\n",
      "(40, 401)\n",
      "chunk_2.wav\n",
      "Padding with 2.445181818181818 seconds of silence\n",
      "(40, 401)\n",
      "chunk_3.wav\n",
      "Padding with 2.159181818181818 seconds of silence\n",
      "(40, 401)\n",
      "chunk_4.wav\n",
      "Padding with 2.361181818181818 seconds of silence\n",
      "(40, 401)\n",
      "chunk_5.wav\n",
      "Padding with 2.4271818181818183 seconds of silence\n",
      "(40, 401)\n",
      "chunk_6.wav\n",
      "Padding with 2.380181818181818 seconds of silence\n",
      "(40, 401)\n",
      "chunk_7.wav\n",
      "Padding with 2.264181818181818 seconds of silence\n",
      "(40, 401)\n",
      "chunk_8.wav\n",
      "Padding with 2.280181818181818 seconds of silence\n",
      "(40, 401)\n",
      "chunk_9.wav\n",
      "Padding with 2.287181818181818 seconds of silence\n",
      "(40, 401)\n",
      "chunk_0.wav\n",
      "Padding with 0.9781818181818182 seconds of silence\n",
      "(40, 401)\n",
      "chunk_1.wav\n",
      "Padding with 1.548181818181818 seconds of silence\n",
      "(40, 401)\n",
      "chunk_2.wav\n",
      "Padding with 1.4781818181818183 seconds of silence\n",
      "(40, 401)\n",
      "chunk_3.wav\n",
      "Padding with 1.5681818181818181 seconds of silence\n",
      "(40, 401)\n",
      "chunk_4.wav\n",
      "Padding with 1.6241818181818182 seconds of silence\n",
      "(40, 401)\n",
      "chunk_5.wav\n",
      "Padding with 1.6931818181818181 seconds of silence\n",
      "(40, 401)\n",
      "chunk_6.wav\n",
      "Padding with 1.7061818181818182 seconds of silence\n",
      "(40, 401)\n",
      "chunk_7.wav\n",
      "Padding with 1.796181818181818 seconds of silence\n",
      "(40, 401)\n",
      "chunk_8.wav\n",
      "Padding with 1.6081818181818182 seconds of silence\n",
      "(40, 401)\n",
      "chunk_9.wav\n",
      "Padding with 1.7351818181818182 seconds of silence\n",
      "(40, 401)\n",
      "chunk_0.wav\n",
      "Padding with 1.4591818181818181 seconds of silence\n",
      "(40, 401)\n",
      "chunk_1.wav\n",
      "Padding with 2.041181818181818 seconds of silence\n",
      "(40, 401)\n",
      "chunk_2.wav\n",
      "Padding with 2.0001818181818183 seconds of silence\n",
      "(40, 401)\n",
      "chunk_3.wav\n",
      "Padding with 1.9641818181818183 seconds of silence\n",
      "(40, 401)\n",
      "chunk_4.wav\n",
      "Padding with 1.9971818181818182 seconds of silence\n",
      "(40, 401)\n",
      "chunk_5.wav\n",
      "Padding with 2.041181818181818 seconds of silence\n",
      "(40, 401)\n",
      "chunk_6.wav\n",
      "Padding with 2.175181818181818 seconds of silence\n",
      "(40, 401)\n",
      "chunk_7.wav\n",
      "Padding with 2.0481818181818183 seconds of silence\n",
      "(40, 401)\n",
      "chunk_8.wav\n",
      "Padding with 2.055181818181818 seconds of silence\n",
      "(40, 401)\n",
      "chunk_9.wav\n",
      "Padding with 1.6041818181818182 seconds of silence\n",
      "(40, 401)\n",
      "chunk_0.wav\n",
      "Padding with 2.9641818181818183 seconds of silence\n",
      "(40, 401)\n",
      "chunk_1.wav\n",
      "Padding with 2.9401818181818182 seconds of silence\n",
      "(40, 401)\n",
      "chunk_2.wav\n",
      "Padding with 2.4951818181818184 seconds of silence\n",
      "(40, 401)\n",
      "chunk_3.wav\n",
      "Padding with 2.4911818181818184 seconds of silence\n",
      "(40, 401)\n",
      "chunk_4.wav\n",
      "Padding with 2.941181818181818 seconds of silence\n",
      "(40, 401)\n",
      "chunk_5.wav\n",
      "Padding with 2.890181818181818 seconds of silence\n",
      "(40, 401)\n",
      "chunk_6.wav\n",
      "Padding with 2.735181818181818 seconds of silence\n",
      "(40, 401)\n",
      "chunk_7.wav\n",
      "Padding with 2.4391818181818183 seconds of silence\n",
      "(40, 401)\n",
      "chunk_8.wav\n",
      "Padding with 2.3991818181818183 seconds of silence\n",
      "(40, 401)\n",
      "chunk_9.wav\n",
      "Padding with 2.0441818181818183 seconds of silence\n",
      "(40, 401)\n",
      "chunk_0.wav\n",
      "Padding with 1.6461818181818182 seconds of silence\n",
      "(40, 401)\n",
      "chunk_1.wav\n",
      "Padding with 2.0111818181818184 seconds of silence\n",
      "(40, 401)\n",
      "chunk_2.wav\n",
      "Padding with 2.099181818181818 seconds of silence\n",
      "(40, 401)\n",
      "chunk_3.wav\n",
      "Padding with 2.0121818181818183 seconds of silence\n",
      "(40, 401)\n",
      "chunk_4.wav\n",
      "Padding with 2.015181818181818 seconds of silence\n",
      "(40, 401)\n",
      "chunk_5.wav\n",
      "Padding with 2.005181818181818 seconds of silence\n",
      "(40, 401)\n",
      "chunk_6.wav\n",
      "Padding with 2.0031818181818184 seconds of silence\n",
      "(40, 401)\n",
      "chunk_7.wav\n",
      "Padding with 1.9161818181818182 seconds of silence\n",
      "(40, 401)\n",
      "chunk_8.wav\n",
      "Padding with 2.1281818181818184 seconds of silence\n",
      "(40, 401)\n",
      "chunk_9.wav\n",
      "Padding with 2.099181818181818 seconds of silence\n",
      "(40, 401)\n",
      "chunk_0.wav\n",
      "Padding with 2.9601818181818182 seconds of silence\n",
      "(40, 401)\n",
      "chunk_1.wav\n",
      "Padding with 2.933181818181818 seconds of silence\n",
      "(40, 401)\n",
      "chunk_2.wav\n",
      "Padding with 2.945181818181818 seconds of silence\n",
      "(40, 401)\n",
      "chunk_3.wav\n",
      "Padding with 2.934181818181818 seconds of silence\n",
      "(40, 401)\n",
      "chunk_4.wav\n",
      "Padding with 2.825181818181818 seconds of silence\n",
      "(40, 401)\n",
      "chunk_5.wav\n",
      "Padding with 2.954181818181818 seconds of silence\n",
      "(40, 401)\n",
      "chunk_6.wav\n",
      "Padding with 2.954181818181818 seconds of silence\n",
      "(40, 401)\n",
      "chunk_7.wav\n",
      "Padding with 2.970181818181818 seconds of silence\n",
      "(40, 401)\n",
      "chunk_8.wav\n",
      "Padding with 2.962181818181818 seconds of silence\n",
      "(40, 401)\n",
      "chunk_9.wav\n",
      "Padding with 2.308181818181818 seconds of silence\n",
      "(40, 401)\n"
     ]
    }
   ],
   "source": [
    "import os\n",
    "# assign directory\n",
    "\n",
    "import glob\n",
    "rootdir = 'dataset/'\n",
    "output = []\n",
    "labels = []\n",
    "\n",
    "for subdir, dirs, files in os.walk(rootdir):\n",
    "    for file in files:\n",
    "        print(file)\n",
    "        if 'chunk' in file:\n",
    "            labels.append(os.path.join(subdir, file).split('-')[3])\n",
    "            data = create_cepstral_coefficients(os.path.join(subdir, file))\n",
    "            where_are_NaNs = np.isnan(data)\n",
    "            data[where_are_NaNs] = 0\n",
    "            data[data == -np.inf] = 0\n",
    "            data[data == np.inf] = 0\n",
    "            output.append(data.flatten())\n",
    "            \n"
   ]
  },
  {
   "cell_type": "code",
   "execution_count": 205,
   "id": "b9bd13af",
   "metadata": {},
   "outputs": [],
   "source": [
    "cepstrals = np.array(output)"
   ]
  },
  {
   "cell_type": "code",
   "execution_count": 206,
   "id": "83fa87b5",
   "metadata": {},
   "outputs": [
    {
     "data": {
      "text/plain": [
       "array([[0., 0., 0., ..., 0., 0., 0.],\n",
       "       [0., 0., 0., ..., 0., 0., 0.],\n",
       "       [0., 0., 0., ..., 0., 0., 0.],\n",
       "       ...,\n",
       "       [0., 0., 0., ..., 0., 0., 0.],\n",
       "       [0., 0., 0., ..., 0., 0., 0.],\n",
       "       [0., 0., 0., ..., 0., 0., 0.]])"
      ]
     },
     "execution_count": 206,
     "metadata": {},
     "output_type": "execute_result"
    }
   ],
   "source": [
    "cepstrals\n"
   ]
  },
  {
   "cell_type": "code",
   "execution_count": 207,
   "id": "315ba90d",
   "metadata": {},
   "outputs": [
    {
     "name": "stdout",
     "output_type": "stream",
     "text": [
      "['B' 'B' 'B' 'B' 'B' 'B' 'B' 'B' 'B' 'B' 'C' 'C' 'C' 'C' 'C' 'C' 'C' 'C'\n",
      " 'C' 'C' 'D' 'D' 'D' 'D' 'D' 'D' 'D' 'D' 'D' 'D' 'E' 'E' 'E' 'E' 'E' 'E'\n",
      " 'E' 'E' 'E' 'E' 'F' 'F' 'F' 'F' 'F' 'F' 'F' 'F' 'F' 'F' 'G' 'G' 'G' 'G'\n",
      " 'G' 'G' 'G' 'G' 'G' 'G' 'H' 'H' 'H' 'H' 'H' 'H' 'H' 'H' 'H' 'H' 'I' 'I'\n",
      " 'I' 'I' 'I' 'I' 'I' 'I' 'I' 'I']\n"
     ]
    },
    {
     "data": {
      "text/plain": [
       "(80, 16040)"
      ]
     },
     "execution_count": 207,
     "metadata": {},
     "output_type": "execute_result"
    }
   ],
   "source": [
    "from sklearn import svm\n",
    "\n",
    "clf = svm.SVC(gamma=0.001, C=100)\n",
    "#print(labels.shape)\n",
    "\n",
    "labels = np.array(labels).ravel()\n",
    "print(labels)\n",
    "#labels = np.concatenate(labels, axis=1)\n",
    "cepstrals.shape\n",
    "#clf.fit(cepstrals, labels)"
   ]
  },
  {
   "cell_type": "code",
   "execution_count": null,
   "id": "714ce7e6",
   "metadata": {},
   "outputs": [],
   "source": []
  },
  {
   "cell_type": "code",
   "execution_count": 208,
   "id": "689aab1b",
   "metadata": {},
   "outputs": [],
   "source": [
    "from sklearn.model_selection import train_test_split\n"
   ]
  },
  {
   "cell_type": "code",
   "execution_count": 209,
   "id": "ce2e380d",
   "metadata": {},
   "outputs": [],
   "source": [
    "X_train, X_test, y_train, y_test = train_test_split(cepstrals, labels, test_size=0.3,random_state=109) # 70% training and 30% test"
   ]
  },
  {
   "cell_type": "code",
   "execution_count": null,
   "id": "2aa9f0f8",
   "metadata": {},
   "outputs": [],
   "source": []
  },
  {
   "cell_type": "code",
   "execution_count": 210,
   "id": "ea61cee9",
   "metadata": {},
   "outputs": [
    {
     "data": {
      "text/plain": [
       "array(['B', 'B', 'B', 'B', 'B', 'B', 'B', 'B', 'B', 'B', 'C', 'C', 'C',\n",
       "       'C', 'C', 'C', 'C', 'C', 'C', 'C', 'D', 'D', 'D', 'D', 'D', 'D',\n",
       "       'D', 'D', 'D', 'D', 'E', 'E', 'E', 'E', 'E', 'E', 'E', 'E', 'E',\n",
       "       'E', 'F', 'F', 'F', 'F', 'F', 'F', 'F', 'F', 'F', 'F', 'G', 'G',\n",
       "       'G', 'G', 'G', 'G', 'G', 'G', 'G', 'G', 'H', 'H', 'H', 'H', 'H',\n",
       "       'H', 'H', 'H', 'H', 'H', 'I', 'I', 'I', 'I', 'I', 'I', 'I', 'I',\n",
       "       'I', 'I'], dtype='<U1')"
      ]
     },
     "execution_count": 210,
     "metadata": {},
     "output_type": "execute_result"
    }
   ],
   "source": [
    "labels.ravel()"
   ]
  },
  {
   "cell_type": "code",
   "execution_count": 211,
   "id": "05bf1359",
   "metadata": {},
   "outputs": [
    {
     "data": {
      "text/plain": [
       "SVC(C=100, gamma=0.001)"
      ]
     },
     "execution_count": 211,
     "metadata": {},
     "output_type": "execute_result"
    }
   ],
   "source": [
    "clf.fit(X_train, y_train)"
   ]
  },
  {
   "cell_type": "code",
   "execution_count": 212,
   "id": "d56c2204",
   "metadata": {},
   "outputs": [],
   "source": [
    "y_pred = clf.predict(X_test)"
   ]
  },
  {
   "cell_type": "code",
   "execution_count": 213,
   "id": "719dfb4d",
   "metadata": {},
   "outputs": [
    {
     "name": "stdout",
     "output_type": "stream",
     "text": [
      "Accuracy: 0.0\n"
     ]
    }
   ],
   "source": [
    "from sklearn import metrics\n",
    "print(\"Accuracy:\",metrics.accuracy_score(y_test, y_pred))"
   ]
  },
  {
   "cell_type": "code",
   "execution_count": 214,
   "id": "e5757531",
   "metadata": {
    "scrolled": true
   },
   "outputs": [
    {
     "name": "stdout",
     "output_type": "stream",
     "text": [
      "(array([0., 0., 0., ..., 0., 0., 0.], dtype=float32), 22050)\n",
      "Padding with 1.4411791383219954 seconds of silence\n",
      "(array([0., 0., 0., ..., 0., 0., 0.], dtype=float32), 22050)\n",
      "Padding with 1.9061678004535147 seconds of silence\n",
      "(array([0., 0., 0., ..., 0., 0., 0.], dtype=float32), 22050)\n",
      "Padding with 1.6871655328798185 seconds of silence\n",
      "(array([0., 0., 0., ..., 0., 0., 0.], dtype=float32), 22050)\n",
      "Padding with 1.7861678004535146 seconds of silence\n",
      "(array([0., 0., 0., ..., 0., 0., 0.], dtype=float32), 22050)\n",
      "Padding with 1.7331519274376417 seconds of silence\n",
      "(array([0., 0., 0., ..., 0., 0., 0.], dtype=float32), 22050)\n",
      "Padding with 1.7691609977324263 seconds of silence\n",
      "(array([0., 0., 0., ..., 0., 0., 0.], dtype=float32), 22050)\n",
      "Padding with 1.7351473922902494 seconds of silence\n",
      "(array([0., 0., 0., ..., 0., 0., 0.], dtype=float32), 22050)\n",
      "Padding with 1.977142857142857 seconds of silence\n",
      "(array([0., 0., 0., ..., 0., 0., 0.], dtype=float32), 22050)\n",
      "Padding with 2.012154195011338 seconds of silence\n",
      "(array([0., 0., 0., ..., 0., 0., 0.], dtype=float32), 22050)\n",
      "Padding with 2.01015873015873 seconds of silence\n",
      "(array([0., 0., 0., ..., 0., 0., 0.], dtype=float32), 22050)\n",
      "Padding with 2.838140589569161 seconds of silence\n",
      "(array([0., 0., 0., ..., 0., 0., 0.], dtype=float32), 22050)\n",
      "Padding with 2.482176870748299 seconds of silence\n",
      "(array([0., 0., 0., ..., 0., 0., 0.], dtype=float32), 22050)\n",
      "Padding with 2.559138321995465 seconds of silence\n",
      "(array([0., 0., 0., ..., 0., 0., 0.], dtype=float32), 22050)\n",
      "Padding with 2.5361451247165534 seconds of silence\n",
      "(array([0., 0., 0., ..., 0., 0., 0.], dtype=float32), 22050)\n",
      "Padding with 2.8821768707482995 seconds of silence\n",
      "(array([0., 0., 0., ..., 0., 0., 0.], dtype=float32), 22050)\n",
      "Padding with 2.9261678004535145 seconds of silence\n",
      "(array([0., 0., 0., ..., 0., 0., 0.], dtype=float32), 22050)\n",
      "Padding with 2.873151927437642 seconds of silence\n",
      "(array([0., 0., 0., ..., 0., 0., 0.], dtype=float32), 22050)\n",
      "Padding with 2.843174603174603 seconds of silence\n",
      "(array([0., 0., 0., ..., 0., 0., 0.], dtype=float32), 22050)\n",
      "Padding with 2.851156462585034 seconds of silence\n",
      "(array([0., 0., 0., ..., 0., 0., 0.], dtype=float32), 22050)\n",
      "Padding with 2.9341496598639454 seconds of silence\n",
      "(array([0., 0., 0., ..., 0., 0., 0.], dtype=float32), 22050)\n",
      "Padding with 1.692154195011338 seconds of silence\n",
      "(array([0., 0., 0., ..., 0., 0., 0.], dtype=float32), 22050)\n",
      "Padding with 2.3621768707482995 seconds of silence\n",
      "(array([0., 0., 0., ..., 0., 0., 0.], dtype=float32), 22050)\n",
      "Padding with 2.445170068027211 seconds of silence\n",
      "(array([0., 0., 0., ..., 0., 0., 0.], dtype=float32), 22050)\n",
      "Padding with 2.159138321995465 seconds of silence\n",
      "(array([0., 0., 0., ..., 0., 0., 0.], dtype=float32), 22050)\n",
      "Padding with 2.3611791383219956 seconds of silence\n",
      "(array([0., 0., 0., ..., 0., 0., 0.], dtype=float32), 22050)\n",
      "Padding with 2.4271655328798185 seconds of silence\n",
      "(array([0., 0., 0., ..., 0., 0., 0.], dtype=float32), 22050)\n",
      "Padding with 2.3801814058956916 seconds of silence\n",
      "(array([0., 0., 0., ..., 0., 0., 0.], dtype=float32), 22050)\n",
      "Padding with 2.264172335600907 seconds of silence\n",
      "(array([0., 0., 0., ..., 0., 0., 0.], dtype=float32), 22050)\n",
      "Padding with 2.2801814058956915 seconds of silence\n",
      "(array([0., 0., 0., ..., 0., 0., 0.], dtype=float32), 22050)\n",
      "Padding with 2.2871655328798184 seconds of silence\n",
      "(array([0., 0., 0., ..., 0., 0., 0.], dtype=float32), 22050)\n",
      "Padding with 0.978140589569161 seconds of silence\n",
      "(array([0., 0., 0., ..., 0., 0., 0.], dtype=float32), 22050)\n",
      "Padding with 1.5481632653061224 seconds of silence\n",
      "(array([0., 0., 0., ..., 0., 0., 0.], dtype=float32), 22050)\n",
      "Padding with 1.478140589569161 seconds of silence\n",
      "(array([0., 0., 0., ..., 0., 0., 0.], dtype=float32), 22050)\n",
      "Padding with 1.5681632653061224 seconds of silence\n",
      "(array([0., 0., 0., ..., 0., 0., 0.], dtype=float32), 22050)\n",
      "Padding with 1.624172335600907 seconds of silence\n",
      "(array([0., 0., 0., ..., 0., 0., 0.], dtype=float32), 22050)\n",
      "Padding with 1.6931519274376416 seconds of silence\n",
      "(array([0., 0., 0., ..., 0., 0., 0.], dtype=float32), 22050)\n",
      "Padding with 1.7061678004535148 seconds of silence\n",
      "(array([0., 0., 0., ..., 0., 0., 0.], dtype=float32), 22050)\n",
      "Padding with 1.7961451247165532 seconds of silence\n",
      "(array([0., 0., 0., ..., 0., 0., 0.], dtype=float32), 22050)\n",
      "Padding with 1.6081632653061224 seconds of silence\n",
      "(array([0., 0., 0., ..., 0., 0., 0.], dtype=float32), 22050)\n",
      "Padding with 1.7351473922902494 seconds of silence\n",
      "(array([0., 0., 0., ..., 0., 0., 0.], dtype=float32), 22050)\n",
      "Padding with 1.4591383219954648 seconds of silence\n",
      "(array([0., 0., 0., ..., 0., 0., 0.], dtype=float32), 22050)\n",
      "Padding with 2.0411791383219953 seconds of silence\n",
      "(array([0., 0., 0., ..., 0., 0., 0.], dtype=float32), 22050)\n",
      "Padding with 2.0001814058956917 seconds of silence\n",
      "(array([0., 0., 0., ..., 0., 0., 0.], dtype=float32), 22050)\n",
      "Padding with 1.964172335600907 seconds of silence\n",
      "(array([0., 0., 0., ..., 0., 0., 0.], dtype=float32), 22050)\n",
      "Padding with 1.997142857142857 seconds of silence\n",
      "(array([0., 0., 0., ..., 0., 0., 0.], dtype=float32), 22050)\n",
      "Padding with 2.0411791383219953 seconds of silence\n",
      "(array([0., 0., 0., ..., 0., 0., 0.], dtype=float32), 22050)\n",
      "Padding with 2.1751473922902496 seconds of silence\n",
      "(array([0., 0., 0., ..., 0., 0., 0.], dtype=float32), 22050)\n",
      "Padding with 2.0481632653061226 seconds of silence\n",
      "(array([0., 0., 0., ..., 0., 0., 0.], dtype=float32), 22050)\n",
      "Padding with 2.0551473922902495 seconds of silence\n",
      "(array([0., 0., 0., ..., 0., 0., 0.], dtype=float32), 22050)\n",
      "Padding with 1.604172335600907 seconds of silence\n",
      "(array([0., 0., 0., ..., 0., 0., 0.], dtype=float32), 22050)\n",
      "Padding with 2.964172335600907 seconds of silence\n",
      "(array([0., 0., 0., ..., 0., 0., 0.], dtype=float32), 22050)\n",
      "Padding with 2.9401814058956917 seconds of silence\n",
      "(array([0., 0., 0., ..., 0., 0., 0.], dtype=float32), 22050)\n",
      "Padding with 2.4951473922902494 seconds of silence\n",
      "(array([0., 0., 0., ..., 0., 0., 0.], dtype=float32), 22050)\n",
      "Padding with 2.491156462585034 seconds of silence\n",
      "(array([0., 0., 0., ..., 0., 0., 0.], dtype=float32), 22050)\n",
      "Padding with 2.9411791383219956 seconds of silence\n",
      "(array([0., 0., 0., ..., 0., 0., 0.], dtype=float32), 22050)\n",
      "Padding with 2.8901587301587304 seconds of silence\n",
      "(array([0., 0., 0., ..., 0., 0., 0.], dtype=float32), 22050)\n",
      "Padding with 2.7351473922902496 seconds of silence\n",
      "(array([0., 0., 0., ..., 0., 0., 0.], dtype=float32), 22050)\n",
      "Padding with 2.4391383219954648 seconds of silence\n",
      "(array([0., 0., 0., ..., 0., 0., 0.], dtype=float32), 22050)\n",
      "Padding with 2.3991383219954647 seconds of silence\n",
      "(array([0., 0., 0., ..., 0., 0., 0.], dtype=float32), 22050)\n",
      "Padding with 2.044172335600907 seconds of silence\n",
      "(array([0., 0., 0., ..., 0., 0., 0.], dtype=float32), 22050)\n",
      "Padding with 1.6461678004535147 seconds of silence\n",
      "(array([0., 0., 0., ..., 0., 0., 0.], dtype=float32), 22050)\n",
      "Padding with 2.011156462585034 seconds of silence\n",
      "(array([0., 0., 0., ..., 0., 0., 0.], dtype=float32), 22050)\n",
      "Padding with 2.099138321995465 seconds of silence\n",
      "(array([0., 0., 0., ..., 0., 0., 0.], dtype=float32), 22050)\n",
      "Padding with 2.012154195011338 seconds of silence\n",
      "(array([0., 0., 0., ..., 0., 0., 0.], dtype=float32), 22050)\n",
      "Padding with 2.0151473922902494 seconds of silence\n",
      "(array([0., 0., 0., ..., 0., 0., 0.], dtype=float32), 22050)\n",
      "Padding with 2.005170068027211 seconds of silence\n",
      "(array([0., 0., 0., ..., 0., 0., 0.], dtype=float32), 22050)\n",
      "Padding with 2.003174603174603 seconds of silence\n",
      "(array([0., 0., 0., ..., 0., 0., 0.], dtype=float32), 22050)\n",
      "Padding with 1.9161451247165533 seconds of silence\n",
      "(array([0., 0., 0., ..., 0., 0., 0.], dtype=float32), 22050)\n",
      "Padding with 2.1281632653061227 seconds of silence\n",
      "(array([0., 0., 0., ..., 0., 0., 0.], dtype=float32), 22050)\n",
      "Padding with 2.099138321995465 seconds of silence\n",
      "(array([0., 0., 0., ..., 0., 0., 0.], dtype=float32), 22050)\n",
      "Padding with 2.9601814058956917 seconds of silence\n",
      "(array([0., 0., 0., ..., 0., 0., 0.], dtype=float32), 22050)\n",
      "Padding with 2.933151927437642 seconds of silence\n",
      "(array([0., 0., 0., ..., 0., 0., 0.], dtype=float32), 22050)\n",
      "Padding with 2.945170068027211 seconds of silence\n",
      "(array([0., 0., 0., ..., 0., 0., 0.], dtype=float32), 22050)\n"
     ]
    },
    {
     "name": "stdout",
     "output_type": "stream",
     "text": [
      "Padding with 2.9341496598639454 seconds of silence\n",
      "(array([0., 0., 0., ..., 0., 0., 0.], dtype=float32), 22050)\n",
      "Padding with 2.825170068027211 seconds of silence\n",
      "(array([0., 0., 0., ..., 0., 0., 0.], dtype=float32), 22050)\n",
      "Padding with 2.9541496598639454 seconds of silence\n",
      "(array([0., 0., 0., ..., 0., 0., 0.], dtype=float32), 22050)\n",
      "Padding with 2.9541496598639454 seconds of silence\n",
      "(array([0., 0., 0., ..., 0., 0., 0.], dtype=float32), 22050)\n",
      "Padding with 2.97015873015873 seconds of silence\n",
      "(array([0., 0., 0., ..., 0., 0., 0.], dtype=float32), 22050)\n",
      "Padding with 2.962176870748299 seconds of silence\n",
      "(array([0., 0., 0., ..., 0., 0., 0.], dtype=float32), 22050)\n",
      "Padding with 2.3081632653061224 seconds of silence\n"
     ]
    },
    {
     "name": "stderr",
     "output_type": "stream",
     "text": [
      "/home/bruce/.local/share/virtualenvs/Masters-SJejm8F2/lib/python3.6/site-packages/ipykernel_launcher.py:30: VisibleDeprecationWarning: Creating an ndarray from ragged nested sequences (which is a list-or-tuple of lists-or-tuples-or ndarrays with different lengths or shapes) is deprecated. If you meant to do this, you must specify 'dtype=object' when creating the ndarray\n"
     ]
    }
   ],
   "source": [
    "def extract_features(audio_data):\n",
    "\n",
    "\t# Remember that the audio data consists of raw audio wave followed by sample rate\n",
    "\t# so we need to only take the raw audio wave.\n",
    "\n",
    "    audio_waves = audio_data[:,0]\n",
    "    samplerate = audio_data[:,1][1]\n",
    "\n",
    "    features = []\n",
    "    for audio_wave in tqdm(audio_waves):\n",
    "        features.append(mfcc(audio_wave, samplerate=samplerate, numcep=26))\n",
    "    \n",
    "    features = np.array(features)\n",
    "    return features\n",
    "\n",
    "# Define a function to load the raw audio files\n",
    "def load_audio():\n",
    "\t# Allocate empty list for male and female voices\n",
    "    chars, labels, = [], []\n",
    "    letters = []\n",
    "    for subdir, dirs, files in os.walk(rootdir):\n",
    "        for file in files:\n",
    "            if 'chunk' in file:\n",
    "                print(librosa.load(os.path.join(subdir, file)))\n",
    "                audio, sample_rate = librosa.load(os.path.join(subdir, file))\n",
    "                data = pad_audio(audio, sample_rate)\n",
    "                \n",
    "                chars.append((data, sample_rate))\n",
    "                labels.append(os.path.join(subdir, file).split('-')[3])\n",
    "        if chars:\n",
    "            letters.append(chars)\n",
    "\t# Convert the list into Numpy array\n",
    "    chars = np.array(chars)\n",
    "    labels = np.array(labels)\n",
    "    \n",
    "    return chars, labels\n",
    "\n",
    "# How to use load_audio() function\n",
    "characters, labels = load_audio()"
   ]
  },
  {
   "cell_type": "code",
   "execution_count": 215,
   "id": "3bb30bc5",
   "metadata": {},
   "outputs": [
    {
     "name": "stderr",
     "output_type": "stream",
     "text": [
      "  0%|          | 0/80 [00:00<?, ?it/s]WARNING:root:frame length (551) is greater than FFT size (512), frame will be truncated. Increase NFFT to avoid.\n",
      "WARNING:root:frame length (551) is greater than FFT size (512), frame will be truncated. Increase NFFT to avoid.\n",
      "WARNING:root:frame length (551) is greater than FFT size (512), frame will be truncated. Increase NFFT to avoid.\n",
      "WARNING:root:frame length (551) is greater than FFT size (512), frame will be truncated. Increase NFFT to avoid.\n",
      "WARNING:root:frame length (551) is greater than FFT size (512), frame will be truncated. Increase NFFT to avoid.\n",
      "WARNING:root:frame length (551) is greater than FFT size (512), frame will be truncated. Increase NFFT to avoid.\n",
      "WARNING:root:frame length (551) is greater than FFT size (512), frame will be truncated. Increase NFFT to avoid.\n",
      "  9%|▉         | 7/80 [00:00<00:01, 61.95it/s]WARNING:root:frame length (551) is greater than FFT size (512), frame will be truncated. Increase NFFT to avoid.\n",
      "WARNING:root:frame length (551) is greater than FFT size (512), frame will be truncated. Increase NFFT to avoid.\n",
      "WARNING:root:frame length (551) is greater than FFT size (512), frame will be truncated. Increase NFFT to avoid.\n",
      "WARNING:root:frame length (551) is greater than FFT size (512), frame will be truncated. Increase NFFT to avoid.\n",
      "WARNING:root:frame length (551) is greater than FFT size (512), frame will be truncated. Increase NFFT to avoid.\n",
      "WARNING:root:frame length (551) is greater than FFT size (512), frame will be truncated. Increase NFFT to avoid.\n",
      "WARNING:root:frame length (551) is greater than FFT size (512), frame will be truncated. Increase NFFT to avoid.\n",
      " 18%|█▊        | 14/80 [00:00<00:01, 64.48it/s]WARNING:root:frame length (551) is greater than FFT size (512), frame will be truncated. Increase NFFT to avoid.\n",
      "WARNING:root:frame length (551) is greater than FFT size (512), frame will be truncated. Increase NFFT to avoid.\n",
      "WARNING:root:frame length (551) is greater than FFT size (512), frame will be truncated. Increase NFFT to avoid.\n",
      "WARNING:root:frame length (551) is greater than FFT size (512), frame will be truncated. Increase NFFT to avoid.\n",
      "WARNING:root:frame length (551) is greater than FFT size (512), frame will be truncated. Increase NFFT to avoid.\n",
      "WARNING:root:frame length (551) is greater than FFT size (512), frame will be truncated. Increase NFFT to avoid.\n",
      "WARNING:root:frame length (551) is greater than FFT size (512), frame will be truncated. Increase NFFT to avoid.\n",
      " 26%|██▋       | 21/80 [00:00<00:00, 66.83it/s]WARNING:root:frame length (551) is greater than FFT size (512), frame will be truncated. Increase NFFT to avoid.\n",
      "WARNING:root:frame length (551) is greater than FFT size (512), frame will be truncated. Increase NFFT to avoid.\n",
      "WARNING:root:frame length (551) is greater than FFT size (512), frame will be truncated. Increase NFFT to avoid.\n",
      "WARNING:root:frame length (551) is greater than FFT size (512), frame will be truncated. Increase NFFT to avoid.\n",
      "WARNING:root:frame length (551) is greater than FFT size (512), frame will be truncated. Increase NFFT to avoid.\n",
      "WARNING:root:frame length (551) is greater than FFT size (512), frame will be truncated. Increase NFFT to avoid.\n",
      "WARNING:root:frame length (551) is greater than FFT size (512), frame will be truncated. Increase NFFT to avoid.\n",
      "WARNING:root:frame length (551) is greater than FFT size (512), frame will be truncated. Increase NFFT to avoid.\n",
      " 36%|███▋      | 29/80 [00:00<00:00, 69.74it/s]WARNING:root:frame length (551) is greater than FFT size (512), frame will be truncated. Increase NFFT to avoid.\n",
      "WARNING:root:frame length (551) is greater than FFT size (512), frame will be truncated. Increase NFFT to avoid.\n",
      "WARNING:root:frame length (551) is greater than FFT size (512), frame will be truncated. Increase NFFT to avoid.\n",
      "WARNING:root:frame length (551) is greater than FFT size (512), frame will be truncated. Increase NFFT to avoid.\n",
      "WARNING:root:frame length (551) is greater than FFT size (512), frame will be truncated. Increase NFFT to avoid.\n",
      "WARNING:root:frame length (551) is greater than FFT size (512), frame will be truncated. Increase NFFT to avoid.\n",
      "WARNING:root:frame length (551) is greater than FFT size (512), frame will be truncated. Increase NFFT to avoid.\n",
      " 45%|████▌     | 36/80 [00:00<00:00, 68.64it/s]WARNING:root:frame length (551) is greater than FFT size (512), frame will be truncated. Increase NFFT to avoid.\n",
      "WARNING:root:frame length (551) is greater than FFT size (512), frame will be truncated. Increase NFFT to avoid.\n",
      "WARNING:root:frame length (551) is greater than FFT size (512), frame will be truncated. Increase NFFT to avoid.\n",
      "WARNING:root:frame length (551) is greater than FFT size (512), frame will be truncated. Increase NFFT to avoid.\n",
      "WARNING:root:frame length (551) is greater than FFT size (512), frame will be truncated. Increase NFFT to avoid.\n",
      "WARNING:root:frame length (551) is greater than FFT size (512), frame will be truncated. Increase NFFT to avoid.\n",
      "WARNING:root:frame length (551) is greater than FFT size (512), frame will be truncated. Increase NFFT to avoid.\n",
      "WARNING:root:frame length (551) is greater than FFT size (512), frame will be truncated. Increase NFFT to avoid.\n",
      "WARNING:root:frame length (551) is greater than FFT size (512), frame will be truncated. Increase NFFT to avoid.\n",
      " 56%|█████▋    | 45/80 [00:00<00:00, 71.86it/s]WARNING:root:frame length (551) is greater than FFT size (512), frame will be truncated. Increase NFFT to avoid.\n",
      "WARNING:root:frame length (551) is greater than FFT size (512), frame will be truncated. Increase NFFT to avoid.\n",
      "WARNING:root:frame length (551) is greater than FFT size (512), frame will be truncated. Increase NFFT to avoid.\n",
      "WARNING:root:frame length (551) is greater than FFT size (512), frame will be truncated. Increase NFFT to avoid.\n",
      "WARNING:root:frame length (551) is greater than FFT size (512), frame will be truncated. Increase NFFT to avoid.\n",
      "WARNING:root:frame length (551) is greater than FFT size (512), frame will be truncated. Increase NFFT to avoid.\n",
      "WARNING:root:frame length (551) is greater than FFT size (512), frame will be truncated. Increase NFFT to avoid.\n",
      "WARNING:root:frame length (551) is greater than FFT size (512), frame will be truncated. Increase NFFT to avoid.\n",
      " 66%|██████▋   | 53/80 [00:00<00:00, 70.58it/s]WARNING:root:frame length (551) is greater than FFT size (512), frame will be truncated. Increase NFFT to avoid.\n",
      "WARNING:root:frame length (551) is greater than FFT size (512), frame will be truncated. Increase NFFT to avoid.\n",
      "WARNING:root:frame length (551) is greater than FFT size (512), frame will be truncated. Increase NFFT to avoid.\n",
      "WARNING:root:frame length (551) is greater than FFT size (512), frame will be truncated. Increase NFFT to avoid.\n",
      "WARNING:root:frame length (551) is greater than FFT size (512), frame will be truncated. Increase NFFT to avoid.\n",
      "WARNING:root:frame length (551) is greater than FFT size (512), frame will be truncated. Increase NFFT to avoid.\n",
      "WARNING:root:frame length (551) is greater than FFT size (512), frame will be truncated. Increase NFFT to avoid.\n",
      "WARNING:root:frame length (551) is greater than FFT size (512), frame will be truncated. Increase NFFT to avoid.\n",
      " 76%|███████▋  | 61/80 [00:00<00:00, 64.36it/s]WARNING:root:frame length (551) is greater than FFT size (512), frame will be truncated. Increase NFFT to avoid.\n",
      "WARNING:root:frame length (551) is greater than FFT size (512), frame will be truncated. Increase NFFT to avoid.\n",
      "WARNING:root:frame length (551) is greater than FFT size (512), frame will be truncated. Increase NFFT to avoid.\n",
      "WARNING:root:frame length (551) is greater than FFT size (512), frame will be truncated. Increase NFFT to avoid.\n",
      "WARNING:root:frame length (551) is greater than FFT size (512), frame will be truncated. Increase NFFT to avoid.\n",
      "WARNING:root:frame length (551) is greater than FFT size (512), frame will be truncated. Increase NFFT to avoid.\n",
      "WARNING:root:frame length (551) is greater than FFT size (512), frame will be truncated. Increase NFFT to avoid.\n"
     ]
    },
    {
     "name": "stderr",
     "output_type": "stream",
     "text": [
      " 85%|████████▌ | 68/80 [00:01<00:00, 65.07it/s]WARNING:root:frame length (551) is greater than FFT size (512), frame will be truncated. Increase NFFT to avoid.\n",
      "WARNING:root:frame length (551) is greater than FFT size (512), frame will be truncated. Increase NFFT to avoid.\n",
      "WARNING:root:frame length (551) is greater than FFT size (512), frame will be truncated. Increase NFFT to avoid.\n",
      "WARNING:root:frame length (551) is greater than FFT size (512), frame will be truncated. Increase NFFT to avoid.\n",
      "WARNING:root:frame length (551) is greater than FFT size (512), frame will be truncated. Increase NFFT to avoid.\n",
      "WARNING:root:frame length (551) is greater than FFT size (512), frame will be truncated. Increase NFFT to avoid.\n",
      "WARNING:root:frame length (551) is greater than FFT size (512), frame will be truncated. Increase NFFT to avoid.\n",
      " 94%|█████████▍| 75/80 [00:01<00:00, 54.86it/s]WARNING:root:frame length (551) is greater than FFT size (512), frame will be truncated. Increase NFFT to avoid.\n",
      "WARNING:root:frame length (551) is greater than FFT size (512), frame will be truncated. Increase NFFT to avoid.\n",
      "WARNING:root:frame length (551) is greater than FFT size (512), frame will be truncated. Increase NFFT to avoid.\n",
      "WARNING:root:frame length (551) is greater than FFT size (512), frame will be truncated. Increase NFFT to avoid.\n",
      "WARNING:root:frame length (551) is greater than FFT size (512), frame will be truncated. Increase NFFT to avoid.\n",
      "100%|██████████| 80/80 [00:01<00:00, 63.93it/s]\n"
     ]
    }
   ],
   "source": [
    "character_features = extract_features(characters)\n"
   ]
  },
  {
   "cell_type": "code",
   "execution_count": 242,
   "id": "3e76b70b",
   "metadata": {},
   "outputs": [
    {
     "name": "stderr",
     "output_type": "stream",
     "text": [
      "100%|██████████| 80/80 [00:00<00:00, 2906.00it/s]\n"
     ]
    }
   ],
   "source": [
    "def concatenate_features(audio_features):\n",
    "    concatenated = audio_features[0]\n",
    "    for audio_feature in tqdm(audio_features):\n",
    "        concatenated = np.vstack((concatenated, audio_feature))\n",
    "        \n",
    "    return concatenated\n",
    "concat = concatenate_features(character_features)\n",
    "            "
   ]
  },
  {
   "cell_type": "code",
   "execution_count": null,
   "id": "da6988d0",
   "metadata": {},
   "outputs": [],
   "source": []
  },
  {
   "cell_type": "code",
   "execution_count": null,
   "id": "bac9514d",
   "metadata": {},
   "outputs": [],
   "source": []
  },
  {
   "cell_type": "code",
   "execution_count": 244,
   "id": "faacb0a8",
   "metadata": {},
   "outputs": [
    {
     "data": {
      "text/plain": [
       "(32238, 26)"
      ]
     },
     "execution_count": 244,
     "metadata": {},
     "output_type": "execute_result"
    }
   ],
   "source": [
    "np.vstack(concat).shape"
   ]
  },
  {
   "cell_type": "code",
   "execution_count": 241,
   "id": "553a680f",
   "metadata": {},
   "outputs": [
    {
     "ename": "ValueError",
     "evalue": "Found input variables with inconsistent numbers of samples: [31840, 80]",
     "output_type": "error",
     "traceback": [
      "\u001b[0;31m---------------------------------------------------------------------------\u001b[0m",
      "\u001b[0;31mValueError\u001b[0m                                Traceback (most recent call last)",
      "\u001b[0;32m<ipython-input-241-98cde10bf05f>\u001b[0m in \u001b[0;36m<module>\u001b[0;34m\u001b[0m\n\u001b[0;32m----> 1\u001b[0;31m \u001b[0mX_train\u001b[0m\u001b[0;34m,\u001b[0m \u001b[0mX_test\u001b[0m\u001b[0;34m,\u001b[0m \u001b[0my_train\u001b[0m\u001b[0;34m,\u001b[0m \u001b[0my_test\u001b[0m \u001b[0;34m=\u001b[0m \u001b[0mtrain_test_split\u001b[0m\u001b[0;34m(\u001b[0m\u001b[0mnp\u001b[0m\u001b[0;34m.\u001b[0m\u001b[0mvstack\u001b[0m\u001b[0;34m(\u001b[0m\u001b[0mcharacter_features\u001b[0m\u001b[0;34m)\u001b[0m\u001b[0;34m,\u001b[0m \u001b[0mlabels\u001b[0m\u001b[0;34m.\u001b[0m\u001b[0mravel\u001b[0m\u001b[0;34m(\u001b[0m\u001b[0;34m)\u001b[0m\u001b[0;34m,\u001b[0m \u001b[0mtest_size\u001b[0m\u001b[0;34m=\u001b[0m\u001b[0;36m0.2\u001b[0m\u001b[0;34m,\u001b[0m \u001b[0mrandom_state\u001b[0m\u001b[0;34m=\u001b[0m\u001b[0;36m22\u001b[0m\u001b[0;34m)\u001b[0m\u001b[0;34m\u001b[0m\u001b[0;34m\u001b[0m\u001b[0m\n\u001b[0m",
      "\u001b[0;32m~/.local/share/virtualenvs/Masters-SJejm8F2/lib/python3.6/site-packages/sklearn/model_selection/_split.py\u001b[0m in \u001b[0;36mtrain_test_split\u001b[0;34m(test_size, train_size, random_state, shuffle, stratify, *arrays)\u001b[0m\n\u001b[1;32m   2170\u001b[0m         \u001b[0;32mraise\u001b[0m \u001b[0mValueError\u001b[0m\u001b[0;34m(\u001b[0m\u001b[0;34m\"At least one array required as input\"\u001b[0m\u001b[0;34m)\u001b[0m\u001b[0;34m\u001b[0m\u001b[0;34m\u001b[0m\u001b[0m\n\u001b[1;32m   2171\u001b[0m \u001b[0;34m\u001b[0m\u001b[0m\n\u001b[0;32m-> 2172\u001b[0;31m     \u001b[0marrays\u001b[0m \u001b[0;34m=\u001b[0m \u001b[0mindexable\u001b[0m\u001b[0;34m(\u001b[0m\u001b[0;34m*\u001b[0m\u001b[0marrays\u001b[0m\u001b[0;34m)\u001b[0m\u001b[0;34m\u001b[0m\u001b[0;34m\u001b[0m\u001b[0m\n\u001b[0m\u001b[1;32m   2173\u001b[0m \u001b[0;34m\u001b[0m\u001b[0m\n\u001b[1;32m   2174\u001b[0m     \u001b[0mn_samples\u001b[0m \u001b[0;34m=\u001b[0m \u001b[0m_num_samples\u001b[0m\u001b[0;34m(\u001b[0m\u001b[0marrays\u001b[0m\u001b[0;34m[\u001b[0m\u001b[0;36m0\u001b[0m\u001b[0;34m]\u001b[0m\u001b[0;34m)\u001b[0m\u001b[0;34m\u001b[0m\u001b[0;34m\u001b[0m\u001b[0m\n",
      "\u001b[0;32m~/.local/share/virtualenvs/Masters-SJejm8F2/lib/python3.6/site-packages/sklearn/utils/validation.py\u001b[0m in \u001b[0;36mindexable\u001b[0;34m(*iterables)\u001b[0m\n\u001b[1;32m    354\u001b[0m     \"\"\"\n\u001b[1;32m    355\u001b[0m     \u001b[0mresult\u001b[0m \u001b[0;34m=\u001b[0m \u001b[0;34m[\u001b[0m\u001b[0m_make_indexable\u001b[0m\u001b[0;34m(\u001b[0m\u001b[0mX\u001b[0m\u001b[0;34m)\u001b[0m \u001b[0;32mfor\u001b[0m \u001b[0mX\u001b[0m \u001b[0;32min\u001b[0m \u001b[0miterables\u001b[0m\u001b[0;34m]\u001b[0m\u001b[0;34m\u001b[0m\u001b[0;34m\u001b[0m\u001b[0m\n\u001b[0;32m--> 356\u001b[0;31m     \u001b[0mcheck_consistent_length\u001b[0m\u001b[0;34m(\u001b[0m\u001b[0;34m*\u001b[0m\u001b[0mresult\u001b[0m\u001b[0;34m)\u001b[0m\u001b[0;34m\u001b[0m\u001b[0;34m\u001b[0m\u001b[0m\n\u001b[0m\u001b[1;32m    357\u001b[0m     \u001b[0;32mreturn\u001b[0m \u001b[0mresult\u001b[0m\u001b[0;34m\u001b[0m\u001b[0;34m\u001b[0m\u001b[0m\n\u001b[1;32m    358\u001b[0m \u001b[0;34m\u001b[0m\u001b[0m\n",
      "\u001b[0;32m~/.local/share/virtualenvs/Masters-SJejm8F2/lib/python3.6/site-packages/sklearn/utils/validation.py\u001b[0m in \u001b[0;36mcheck_consistent_length\u001b[0;34m(*arrays)\u001b[0m\n\u001b[1;32m    318\u001b[0m     \u001b[0;32mif\u001b[0m \u001b[0mlen\u001b[0m\u001b[0;34m(\u001b[0m\u001b[0muniques\u001b[0m\u001b[0;34m)\u001b[0m \u001b[0;34m>\u001b[0m \u001b[0;36m1\u001b[0m\u001b[0;34m:\u001b[0m\u001b[0;34m\u001b[0m\u001b[0;34m\u001b[0m\u001b[0m\n\u001b[1;32m    319\u001b[0m         raise ValueError(\"Found input variables with inconsistent numbers of\"\n\u001b[0;32m--> 320\u001b[0;31m                          \" samples: %r\" % [int(l) for l in lengths])\n\u001b[0m\u001b[1;32m    321\u001b[0m \u001b[0;34m\u001b[0m\u001b[0m\n\u001b[1;32m    322\u001b[0m \u001b[0;34m\u001b[0m\u001b[0m\n",
      "\u001b[0;31mValueError\u001b[0m: Found input variables with inconsistent numbers of samples: [31840, 80]"
     ]
    }
   ],
   "source": [
    "\n",
    "\n",
    "X_train, X_test, y_train, y_test = train_test_split(np.vstack(character_features), labels.ravel(), test_size=0.2, random_state=22)\n"
   ]
  },
  {
   "cell_type": "code",
   "execution_count": 240,
   "id": "93af2cd3",
   "metadata": {},
   "outputs": [],
   "source": [
    "from sklearn.svm import SVC\n",
    "clf = SVC(kernel='rbf')   "
   ]
  },
  {
   "cell_type": "code",
   "execution_count": 226,
   "id": "cec8e1d1",
   "metadata": {},
   "outputs": [
    {
     "ename": "ValueError",
     "evalue": "Found array with dim 3. Estimator expected <= 2.",
     "output_type": "error",
     "traceback": [
      "\u001b[0;31m---------------------------------------------------------------------------\u001b[0m",
      "\u001b[0;31mValueError\u001b[0m                                Traceback (most recent call last)",
      "\u001b[0;32m<ipython-input-226-4f66baab8f93>\u001b[0m in \u001b[0;36m<module>\u001b[0;34m\u001b[0m\n\u001b[0;32m----> 1\u001b[0;31m \u001b[0mclf\u001b[0m\u001b[0;34m.\u001b[0m\u001b[0mfit\u001b[0m\u001b[0;34m(\u001b[0m\u001b[0mX_train\u001b[0m\u001b[0;34m,\u001b[0m \u001b[0my_train\u001b[0m\u001b[0;34m)\u001b[0m\u001b[0;34m\u001b[0m\u001b[0;34m\u001b[0m\u001b[0m\n\u001b[0m",
      "\u001b[0;32m~/.local/share/virtualenvs/Masters-SJejm8F2/lib/python3.6/site-packages/sklearn/svm/_base.py\u001b[0m in \u001b[0;36mfit\u001b[0;34m(self, X, y, sample_weight)\u001b[0m\n\u001b[1;32m    169\u001b[0m             X, y = self._validate_data(X, y, dtype=np.float64,\n\u001b[1;32m    170\u001b[0m                                        \u001b[0morder\u001b[0m\u001b[0;34m=\u001b[0m\u001b[0;34m'C'\u001b[0m\u001b[0;34m,\u001b[0m \u001b[0maccept_sparse\u001b[0m\u001b[0;34m=\u001b[0m\u001b[0;34m'csr'\u001b[0m\u001b[0;34m,\u001b[0m\u001b[0;34m\u001b[0m\u001b[0;34m\u001b[0m\u001b[0m\n\u001b[0;32m--> 171\u001b[0;31m                                        accept_large_sparse=False)\n\u001b[0m\u001b[1;32m    172\u001b[0m \u001b[0;34m\u001b[0m\u001b[0m\n\u001b[1;32m    173\u001b[0m         \u001b[0my\u001b[0m \u001b[0;34m=\u001b[0m \u001b[0mself\u001b[0m\u001b[0;34m.\u001b[0m\u001b[0m_validate_targets\u001b[0m\u001b[0;34m(\u001b[0m\u001b[0my\u001b[0m\u001b[0;34m)\u001b[0m\u001b[0;34m\u001b[0m\u001b[0;34m\u001b[0m\u001b[0m\n",
      "\u001b[0;32m~/.local/share/virtualenvs/Masters-SJejm8F2/lib/python3.6/site-packages/sklearn/base.py\u001b[0m in \u001b[0;36m_validate_data\u001b[0;34m(self, X, y, reset, validate_separately, **check_params)\u001b[0m\n\u001b[1;32m    431\u001b[0m                 \u001b[0my\u001b[0m \u001b[0;34m=\u001b[0m \u001b[0mcheck_array\u001b[0m\u001b[0;34m(\u001b[0m\u001b[0my\u001b[0m\u001b[0;34m,\u001b[0m \u001b[0;34m**\u001b[0m\u001b[0mcheck_y_params\u001b[0m\u001b[0;34m)\u001b[0m\u001b[0;34m\u001b[0m\u001b[0;34m\u001b[0m\u001b[0m\n\u001b[1;32m    432\u001b[0m             \u001b[0;32melse\u001b[0m\u001b[0;34m:\u001b[0m\u001b[0;34m\u001b[0m\u001b[0;34m\u001b[0m\u001b[0m\n\u001b[0;32m--> 433\u001b[0;31m                 \u001b[0mX\u001b[0m\u001b[0;34m,\u001b[0m \u001b[0my\u001b[0m \u001b[0;34m=\u001b[0m \u001b[0mcheck_X_y\u001b[0m\u001b[0;34m(\u001b[0m\u001b[0mX\u001b[0m\u001b[0;34m,\u001b[0m \u001b[0my\u001b[0m\u001b[0;34m,\u001b[0m \u001b[0;34m**\u001b[0m\u001b[0mcheck_params\u001b[0m\u001b[0;34m)\u001b[0m\u001b[0;34m\u001b[0m\u001b[0;34m\u001b[0m\u001b[0m\n\u001b[0m\u001b[1;32m    434\u001b[0m             \u001b[0mout\u001b[0m \u001b[0;34m=\u001b[0m \u001b[0mX\u001b[0m\u001b[0;34m,\u001b[0m \u001b[0my\u001b[0m\u001b[0;34m\u001b[0m\u001b[0;34m\u001b[0m\u001b[0m\n\u001b[1;32m    435\u001b[0m \u001b[0;34m\u001b[0m\u001b[0m\n",
      "\u001b[0;32m~/.local/share/virtualenvs/Masters-SJejm8F2/lib/python3.6/site-packages/sklearn/utils/validation.py\u001b[0m in \u001b[0;36minner_f\u001b[0;34m(*args, **kwargs)\u001b[0m\n\u001b[1;32m     61\u001b[0m             \u001b[0mextra_args\u001b[0m \u001b[0;34m=\u001b[0m \u001b[0mlen\u001b[0m\u001b[0;34m(\u001b[0m\u001b[0margs\u001b[0m\u001b[0;34m)\u001b[0m \u001b[0;34m-\u001b[0m \u001b[0mlen\u001b[0m\u001b[0;34m(\u001b[0m\u001b[0mall_args\u001b[0m\u001b[0;34m)\u001b[0m\u001b[0;34m\u001b[0m\u001b[0;34m\u001b[0m\u001b[0m\n\u001b[1;32m     62\u001b[0m             \u001b[0;32mif\u001b[0m \u001b[0mextra_args\u001b[0m \u001b[0;34m<=\u001b[0m \u001b[0;36m0\u001b[0m\u001b[0;34m:\u001b[0m\u001b[0;34m\u001b[0m\u001b[0;34m\u001b[0m\u001b[0m\n\u001b[0;32m---> 63\u001b[0;31m                 \u001b[0;32mreturn\u001b[0m \u001b[0mf\u001b[0m\u001b[0;34m(\u001b[0m\u001b[0;34m*\u001b[0m\u001b[0margs\u001b[0m\u001b[0;34m,\u001b[0m \u001b[0;34m**\u001b[0m\u001b[0mkwargs\u001b[0m\u001b[0;34m)\u001b[0m\u001b[0;34m\u001b[0m\u001b[0;34m\u001b[0m\u001b[0m\n\u001b[0m\u001b[1;32m     64\u001b[0m \u001b[0;34m\u001b[0m\u001b[0m\n\u001b[1;32m     65\u001b[0m             \u001b[0;31m# extra_args > 0\u001b[0m\u001b[0;34m\u001b[0m\u001b[0;34m\u001b[0m\u001b[0;34m\u001b[0m\u001b[0m\n",
      "\u001b[0;32m~/.local/share/virtualenvs/Masters-SJejm8F2/lib/python3.6/site-packages/sklearn/utils/validation.py\u001b[0m in \u001b[0;36mcheck_X_y\u001b[0;34m(X, y, accept_sparse, accept_large_sparse, dtype, order, copy, force_all_finite, ensure_2d, allow_nd, multi_output, ensure_min_samples, ensure_min_features, y_numeric, estimator)\u001b[0m\n\u001b[1;32m    876\u001b[0m                     \u001b[0mensure_min_samples\u001b[0m\u001b[0;34m=\u001b[0m\u001b[0mensure_min_samples\u001b[0m\u001b[0;34m,\u001b[0m\u001b[0;34m\u001b[0m\u001b[0;34m\u001b[0m\u001b[0m\n\u001b[1;32m    877\u001b[0m                     \u001b[0mensure_min_features\u001b[0m\u001b[0;34m=\u001b[0m\u001b[0mensure_min_features\u001b[0m\u001b[0;34m,\u001b[0m\u001b[0;34m\u001b[0m\u001b[0;34m\u001b[0m\u001b[0m\n\u001b[0;32m--> 878\u001b[0;31m                     estimator=estimator)\n\u001b[0m\u001b[1;32m    879\u001b[0m     \u001b[0;32mif\u001b[0m \u001b[0mmulti_output\u001b[0m\u001b[0;34m:\u001b[0m\u001b[0;34m\u001b[0m\u001b[0;34m\u001b[0m\u001b[0m\n\u001b[1;32m    880\u001b[0m         y = check_array(y, accept_sparse='csr', force_all_finite=True,\n",
      "\u001b[0;32m~/.local/share/virtualenvs/Masters-SJejm8F2/lib/python3.6/site-packages/sklearn/utils/validation.py\u001b[0m in \u001b[0;36minner_f\u001b[0;34m(*args, **kwargs)\u001b[0m\n\u001b[1;32m     61\u001b[0m             \u001b[0mextra_args\u001b[0m \u001b[0;34m=\u001b[0m \u001b[0mlen\u001b[0m\u001b[0;34m(\u001b[0m\u001b[0margs\u001b[0m\u001b[0;34m)\u001b[0m \u001b[0;34m-\u001b[0m \u001b[0mlen\u001b[0m\u001b[0;34m(\u001b[0m\u001b[0mall_args\u001b[0m\u001b[0;34m)\u001b[0m\u001b[0;34m\u001b[0m\u001b[0;34m\u001b[0m\u001b[0m\n\u001b[1;32m     62\u001b[0m             \u001b[0;32mif\u001b[0m \u001b[0mextra_args\u001b[0m \u001b[0;34m<=\u001b[0m \u001b[0;36m0\u001b[0m\u001b[0;34m:\u001b[0m\u001b[0;34m\u001b[0m\u001b[0;34m\u001b[0m\u001b[0m\n\u001b[0;32m---> 63\u001b[0;31m                 \u001b[0;32mreturn\u001b[0m \u001b[0mf\u001b[0m\u001b[0;34m(\u001b[0m\u001b[0;34m*\u001b[0m\u001b[0margs\u001b[0m\u001b[0;34m,\u001b[0m \u001b[0;34m**\u001b[0m\u001b[0mkwargs\u001b[0m\u001b[0;34m)\u001b[0m\u001b[0;34m\u001b[0m\u001b[0;34m\u001b[0m\u001b[0m\n\u001b[0m\u001b[1;32m     64\u001b[0m \u001b[0;34m\u001b[0m\u001b[0m\n\u001b[1;32m     65\u001b[0m             \u001b[0;31m# extra_args > 0\u001b[0m\u001b[0;34m\u001b[0m\u001b[0;34m\u001b[0m\u001b[0;34m\u001b[0m\u001b[0m\n",
      "\u001b[0;32m~/.local/share/virtualenvs/Masters-SJejm8F2/lib/python3.6/site-packages/sklearn/utils/validation.py\u001b[0m in \u001b[0;36mcheck_array\u001b[0;34m(array, accept_sparse, accept_large_sparse, dtype, order, copy, force_all_finite, ensure_2d, allow_nd, ensure_min_samples, ensure_min_features, estimator)\u001b[0m\n\u001b[1;32m    715\u001b[0m         \u001b[0;32mif\u001b[0m \u001b[0;32mnot\u001b[0m \u001b[0mallow_nd\u001b[0m \u001b[0;32mand\u001b[0m \u001b[0marray\u001b[0m\u001b[0;34m.\u001b[0m\u001b[0mndim\u001b[0m \u001b[0;34m>=\u001b[0m \u001b[0;36m3\u001b[0m\u001b[0;34m:\u001b[0m\u001b[0;34m\u001b[0m\u001b[0;34m\u001b[0m\u001b[0m\n\u001b[1;32m    716\u001b[0m             raise ValueError(\"Found array with dim %d. %s expected <= 2.\"\n\u001b[0;32m--> 717\u001b[0;31m                              % (array.ndim, estimator_name))\n\u001b[0m\u001b[1;32m    718\u001b[0m \u001b[0;34m\u001b[0m\u001b[0m\n\u001b[1;32m    719\u001b[0m         \u001b[0;32mif\u001b[0m \u001b[0mforce_all_finite\u001b[0m\u001b[0;34m:\u001b[0m\u001b[0;34m\u001b[0m\u001b[0;34m\u001b[0m\u001b[0m\n",
      "\u001b[0;31mValueError\u001b[0m: Found array with dim 3. Estimator expected <= 2."
     ]
    }
   ],
   "source": [
    "clf.fit(X_train, y_train)\n"
   ]
  },
  {
   "cell_type": "code",
   "execution_count": null,
   "id": "e15adc59",
   "metadata": {},
   "outputs": [],
   "source": []
  }
 ],
 "metadata": {
  "kernelspec": {
   "display_name": "Python 3",
   "language": "python",
   "name": "python3"
  },
  "language_info": {
   "codemirror_mode": {
    "name": "ipython",
    "version": 3
   },
   "file_extension": ".py",
   "mimetype": "text/x-python",
   "name": "python",
   "nbconvert_exporter": "python",
   "pygments_lexer": "ipython3",
   "version": "3.6.15"
  }
 },
 "nbformat": 4,
 "nbformat_minor": 5
}
